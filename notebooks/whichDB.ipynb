{
 "cells": [
  {
   "cell_type": "markdown",
   "metadata": {},
   "source": [
    "# which db"
   ]
  },
  {
   "cell_type": "code",
   "execution_count": 1,
   "metadata": {},
   "outputs": [
    {
     "name": "stdout",
     "output_type": "stream",
     "text": [
      "2024-06-17T17:13:50.676Z\n"
     ]
    }
   ],
   "source": [
    "from datetime import datetime\n",
    "\n",
    "# Creare un oggetto datetime per l'ora corrente\n",
    "now = datetime.now()\n",
    "\n",
    "# Ottenere una stringa formattata in ISO 8601\n",
    "iso_format = now.isoformat()\n",
    "\n",
    "print(iso_format[:-3] + 'Z')\n"
   ]
  },
  {
   "cell_type": "markdown",
   "metadata": {},
   "source": [
    "## MONGO"
   ]
  },
  {
   "cell_type": "code",
   "execution_count": 2,
   "metadata": {},
   "outputs": [
    {
     "name": "stdout",
     "output_type": "stream",
     "text": [
      "\u0007\n"
     ]
    }
   ],
   "source": [
    "# U+0007 is the ASCII Bell character\n",
    "bell_character = chr(0x07)\n",
    "print(bell_character)\n"
   ]
  },
  {
   "cell_type": "code",
   "execution_count": 3,
   "metadata": {},
   "outputs": [],
   "source": [
    "import pymongo\n",
    "import json\n",
    "from pymongo import MongoClient\n",
    "import ast\n",
    "import time"
   ]
  },
  {
   "cell_type": "code",
   "execution_count": 4,
   "metadata": {},
   "outputs": [],
   "source": [
    "datas = {\"data\":'ciao'}"
   ]
  },
  {
   "cell_type": "code",
   "execution_count": 5,
   "metadata": {},
   "outputs": [
    {
     "ename": "KeyError",
     "evalue": "0",
     "output_type": "error",
     "traceback": [
      "\u001b[1;31m---------------------------------------------------------------------------\u001b[0m",
      "\u001b[1;31mKeyError\u001b[0m                                  Traceback (most recent call last)",
      "Cell \u001b[1;32mIn[5], line 1\u001b[0m\n\u001b[1;32m----> 1\u001b[0m \u001b[43mdatas\u001b[49m\u001b[43m[\u001b[49m\u001b[38;5;241;43m0\u001b[39;49m\u001b[43m]\u001b[49m\n",
      "\u001b[1;31mKeyError\u001b[0m: 0"
     ]
    }
   ],
   "source": [
    "datas[0]"
   ]
  },
  {
   "cell_type": "code",
   "execution_count": 6,
   "metadata": {},
   "outputs": [],
   "source": [
    "mGClient = MongoClient(f'mongodb://10.250.4.35:27017') \n",
    "\n",
    "db = mGClient['experiments']\n",
    "collection = db[\"provaRMS\"]"
   ]
  },
  {
   "cell_type": "code",
   "execution_count": 7,
   "metadata": {},
   "outputs": [
    {
     "data": {
      "text/plain": [
       "pymongo.collection.Collection"
      ]
     },
     "execution_count": 7,
     "metadata": {},
     "output_type": "execute_result"
    }
   ],
   "source": [
    "type(collection)"
   ]
  },
  {
   "cell_type": "code",
   "execution_count": 8,
   "metadata": {},
   "outputs": [],
   "source": [
    "daInserire = datas\n",
    "datada={}\n",
    "datada[\"data\"] = json.dumps(daInserire)\n",
    "insertResult = collection.insert_one(datada)"
   ]
  },
  {
   "cell_type": "code",
   "execution_count": 9,
   "metadata": {},
   "outputs": [
    {
     "data": {
      "text/plain": [
       "16"
      ]
     },
     "execution_count": 9,
     "metadata": {},
     "output_type": "execute_result"
    }
   ],
   "source": [
    "take = collection.find_one({\"_id\": insertResult.inserted_id})\n",
    "len(take[\"data\"])"
   ]
  },
  {
   "cell_type": "code",
   "execution_count": null,
   "metadata": {},
   "outputs": [],
   "source": [
    "\n",
    "r = redis.Redis(host='10.250.4.35', port=6379, decode_responses=True)"
   ]
  },
  {
   "cell_type": "code",
   "execution_count": 24,
   "metadata": {},
   "outputs": [
    {
     "name": "stdout",
     "output_type": "stream",
     "text": [
      "MongoDB upload download mean time:  0.013816897869110107\n",
      "Redis upload download mean time: 0.21274699687957765\n"
     ]
    }
   ],
   "source": [
    "listExecutionTime = []\n",
    "for _ in range(0, 100):\n",
    "    executionTime = time.time()\n",
    "    taked = collection.find_one({\"_id\": insertResult.inserted_id})\n",
    "    taked[\"data\"] = taked[\"data\"]\n",
    "    collection.replace_one({\"_id\": insertResult.inserted_id},{\"data\": taked[\"data\"]})\n",
    "    # print(time.time()-timek)\n",
    "    listExecutionTime.append(time.time()-executionTime)\n",
    "print(\"MongoDB upload download mean time: \", sum(listExecutionTime)/len(listExecutionTime))\n",
    "\n",
    "listExecutionTime = []\n",
    "for _ in range(0, 100):\n",
    "    executionTime = time.time()\n",
    "    taked = json.loads(r.get('data'))\n",
    "    r.set('data', json.dumps(taked))\n",
    "    # print(time.time()-timek)\n",
    "    listExecutionTime.append(time.time()-executionTime)\n",
    "\n",
    "print(\"Redis upload download mean time:\",sum(listExecutionTime)/len(listExecutionTime))\n"
   ]
  },
  {
   "cell_type": "markdown",
   "metadata": {},
   "source": [
    "## redis"
   ]
  },
  {
   "cell_type": "code",
   "execution_count": 11,
   "metadata": {},
   "outputs": [],
   "source": [
    "import redis\n",
    "import json\n",
    "import time"
   ]
  },
  {
   "cell_type": "code",
   "execution_count": 12,
   "metadata": {},
   "outputs": [],
   "source": [
    "\n",
    "r = redis.Redis(host='10.250.4.35', port=6379, decode_responses=True)"
   ]
  },
  {
   "cell_type": "code",
   "execution_count": null,
   "metadata": {},
   "outputs": [],
   "source": [
    "\n",
    "da = datas[0:1000]"
   ]
  },
  {
   "cell_type": "code",
   "execution_count": 13,
   "metadata": {},
   "outputs": [
    {
     "data": {
      "text/plain": [
       "True"
      ]
     },
     "execution_count": 13,
     "metadata": {},
     "output_type": "execute_result"
    }
   ],
   "source": [
    "r.set('data', json.dumps(datas))"
   ]
  },
  {
   "cell_type": "code",
   "execution_count": 14,
   "metadata": {},
   "outputs": [
    {
     "data": {
      "text/plain": [
       "'{\"data\": \"ciao\"}'"
      ]
     },
     "execution_count": 14,
     "metadata": {},
     "output_type": "execute_result"
    }
   ],
   "source": [
    "r.get('data')"
   ]
  },
  {
   "cell_type": "code",
   "execution_count": 15,
   "metadata": {},
   "outputs": [
    {
     "name": "stdout",
     "output_type": "stream",
     "text": [
      "0.011980772018432617\n",
      "0.0009891986846923828\n",
      "0.024909019470214844\n",
      "0.011211633682250977\n",
      "0.01235508918762207\n",
      "0.011627435684204102\n",
      "0.013738870620727539\n",
      "0.011338233947753906\n",
      "0.005735874176025391\n",
      "0.012739896774291992\n",
      "0.014163494110107422\n",
      "0.014053583145141602\n",
      "0.016618728637695312\n",
      "0.016588926315307617\n",
      "0.02083754539489746\n",
      "0.012625455856323242\n",
      "0.0\n",
      "0.019402027130126953\n",
      "0.0156402587890625\n",
      "0.01043558120727539\n",
      "0.011353492736816406\n",
      "0.21062040328979492\n",
      "0.021785736083984375\n",
      "0.010590791702270508\n",
      "0.0\n",
      "0.021640539169311523\n",
      "0.015640974044799805\n",
      "0.017055988311767578\n",
      "0.014523029327392578\n",
      "0.015974044799804688\n",
      "0.009435653686523438\n",
      "0.00784921646118164\n",
      "0.01636338233947754\n",
      "0.0\n",
      "0.01801013946533203\n",
      "0.015054702758789062\n",
      "0.0\n",
      "0.017264366149902344\n",
      "0.02085423469543457\n",
      "0.00985574722290039\n",
      "0.005051136016845703\n",
      "0.01403045654296875\n",
      "0.017605304718017578\n",
      "0.0164339542388916\n",
      "0.0009343624114990234\n",
      "0.016535520553588867\n",
      "0.015967845916748047\n",
      "0.008088350296020508\n",
      "0.008172273635864258\n",
      "0.016960620880126953\n",
      "0.0\n",
      "0.01671743392944336\n",
      "0.016412734985351562\n",
      "0.01546788215637207\n",
      "0.0028553009033203125\n",
      "0.01957845687866211\n",
      "0.011759281158447266\n",
      "0.000690460205078125\n",
      "0.016549110412597656\n",
      "0.014978885650634766\n",
      "0.0013861656188964844\n",
      "0.016658306121826172\n",
      "0.016646623611450195\n",
      "0.016225576400756836\n",
      "0.009320259094238281\n",
      "0.0077838897705078125\n",
      "0.01527094841003418\n",
      "0.010428190231323242\n",
      "0.007157087326049805\n",
      "0.016426563262939453\n",
      "0.012678861618041992\n",
      "0.01129150390625\n",
      "0.012555837631225586\n",
      "0.010877847671508789\n",
      "0.007239818572998047\n",
      "0.016785860061645508\n",
      "0.010646581649780273\n",
      "0.010763168334960938\n",
      "0.016891956329345703\n",
      "0.0071277618408203125\n",
      "0.016244888305664062\n",
      "0.01636052131652832\n",
      "0.012892484664916992\n",
      "0.003923177719116211\n",
      "0.019642114639282227\n",
      "0.013586282730102539\n",
      "0.013682842254638672\n",
      "0.0055201053619384766\n",
      "0.014323234558105469\n",
      "0.014531373977661133\n",
      "0.002653360366821289\n",
      "0.0200955867767334\n",
      "0.01258397102355957\n",
      "0.011048555374145508\n",
      "0.004632472991943359\n",
      "0.013091564178466797\n",
      "0.016605854034423828\n",
      "0.00904989242553711\n",
      "0.007642507553100586\n",
      "0.02042698860168457\n",
      "sum: 0.01429314136505127\n"
     ]
    }
   ],
   "source": [
    "listaTempo = []\n",
    "for _ in range(0, 100):\n",
    "    for i in range(0, len(datas), 250):\n",
    "        timek = time.time()\n",
    "\n",
    "        taked = json.loads(r.get('data'))\n",
    "        # taked[\"data\"] = ast.literal_eval(taked[\"data\"])\n",
    "\n",
    "        aux = taked\n",
    "        # aux.append(datas[i:i+250])\n",
    "        taked = aux\n",
    "        r.set('data', json.dumps(taked))\n",
    "        print(time.time()-timek)\n",
    "        listaTempo.append(time.time()-timek)\n",
    "\n",
    "print(\"sum:\",sum(listaTempo)/len(listaTempo))"
   ]
  },
  {
   "cell_type": "code",
   "execution_count": null,
   "metadata": {},
   "outputs": [],
   "source": [
    "0.041 vs 0.039"
   ]
  },
  {
   "cell_type": "markdown",
   "metadata": {},
   "source": [
    "# prova vera"
   ]
  },
  {
   "cell_type": "code",
   "execution_count": 1,
   "metadata": {},
   "outputs": [],
   "source": [
    "from pymongo import MongoClient\n",
    "import emg_analysys.analysys_functions as af\n",
    "import datetime\n",
    "import json\n",
    "import time"
   ]
  },
  {
   "cell_type": "code",
   "execution_count": 2,
   "metadata": {},
   "outputs": [],
   "source": [
    "datas = json.load(open('experimentsbtsData.json'))"
   ]
  },
  {
   "cell_type": "code",
   "execution_count": 3,
   "metadata": {},
   "outputs": [],
   "source": [
    "datas2 = datas+datas+datas"
   ]
  },
  {
   "cell_type": "code",
   "execution_count": 4,
   "metadata": {},
   "outputs": [],
   "source": [
    "newSamples = datas[0:200]"
   ]
  },
  {
   "cell_type": "code",
   "execution_count": 5,
   "metadata": {},
   "outputs": [],
   "source": [
    "mGClient = MongoClient(f'mongodb://10.250.4.35:27017') \n",
    "\n",
    "db = mGClient['experiments']\n",
    "collection = db[\"provaRMS\"]"
   ]
  },
  {
   "cell_type": "code",
   "execution_count": 10,
   "metadata": {},
   "outputs": [],
   "source": [
    "data = af.obtain_mongo(\"2024-04-15T12:45:41.36Z\", collection)"
   ]
  },
  {
   "cell_type": "code",
   "execution_count": 11,
   "metadata": {},
   "outputs": [],
   "source": [
    "data2 = af.obtaining_mqtt(newSamples, data)"
   ]
  },
  {
   "cell_type": "code",
   "execution_count": 13,
   "metadata": {},
   "outputs": [
    {
     "data": {
      "text/plain": [
       "dict_keys([1, 2])"
      ]
     },
     "execution_count": 13,
     "metadata": {},
     "output_type": "execute_result"
    }
   ],
   "source": [
    "data2.keys()"
   ]
  },
  {
   "cell_type": "code",
   "execution_count": 8,
   "metadata": {},
   "outputs": [],
   "source": [
    "data = data2.copy()"
   ]
  },
  {
   "cell_type": "code",
   "execution_count": 9,
   "metadata": {},
   "outputs": [],
   "source": [
    "data = af.filtering(data)"
   ]
  },
  {
   "cell_type": "code",
   "execution_count": 10,
   "metadata": {},
   "outputs": [],
   "source": [
    "dataRMS = af.rms(data)"
   ]
  },
  {
   "cell_type": "code",
   "execution_count": 11,
   "metadata": {},
   "outputs": [
    {
     "name": "stdout",
     "output_type": "stream",
     "text": [
      "meanMedianFreq\n",
      "data too short\n",
      "data too short\n"
     ]
    }
   ],
   "source": [
    "datafreqs = af.meanMedianFreq(data)"
   ]
  },
  {
   "cell_type": "code",
   "execution_count": 12,
   "metadata": {},
   "outputs": [
    {
     "data": {
      "text/plain": [
       "{}"
      ]
     },
     "execution_count": 12,
     "metadata": {},
     "output_type": "execute_result"
    }
   ],
   "source": [
    "datafreqs"
   ]
  },
  {
   "cell_type": "code",
   "execution_count": 13,
   "metadata": {},
   "outputs": [],
   "source": [
    "af.save_mongo(data2, \"2024-04-15T12:45:41.36Z\", collection)"
   ]
  },
  {
   "cell_type": "code",
   "execution_count": 14,
   "metadata": {},
   "outputs": [
    {
     "data": {
      "text/plain": [
       "defaultdict(list,\n",
       "            {1: [(0, 0, 0),\n",
       "              (1, 0, 0),\n",
       "              (2, 0, 0),\n",
       "              (3, 0, 0),\n",
       "              (4, 0, 0),\n",
       "              (5, 0, 0),\n",
       "              (6, 1, 0),\n",
       "              (7, 1, 0),\n",
       "              (8, 1, 0),\n",
       "              (9, 1, 0),\n",
       "              (10, 1, 0),\n",
       "              (11, 1, 0),\n",
       "              (12, 1, 0),\n",
       "              (13, 1, 0),\n",
       "              (14, 1, 0),\n",
       "              (15, 1, 0),\n",
       "              (16, 1, 0),\n",
       "              (17, 1, 0),\n",
       "              (18, 1, 0),\n",
       "              (19, 1, 0),\n",
       "              (20, 1, 0),\n",
       "              (21, 1, 0),\n",
       "              (22, 1, 0),\n",
       "              (23, 1, 0),\n",
       "              (24, 1, 0),\n",
       "              (25, 1, 0),\n",
       "              (26, 1, 0),\n",
       "              (27, 1, 0),\n",
       "              (28, 1, 0),\n",
       "              (29, 1, 0),\n",
       "              (30, 1, 0),\n",
       "              (31, 1, 0),\n",
       "              (32, 1, 0),\n",
       "              (33, 1, 0),\n",
       "              (34, 1, 0),\n",
       "              (35, 1, 0),\n",
       "              (36, 1, 0),\n",
       "              (37, 1, 0),\n",
       "              (38, 1, 0),\n",
       "              (39, 1, 0),\n",
       "              (40, 1, 0),\n",
       "              (41, 1, 0),\n",
       "              (42, 1, 0),\n",
       "              (43, 1, 0),\n",
       "              (44, 1, 0),\n",
       "              (45, 1, 0),\n",
       "              (46, 1, 0),\n",
       "              (47, 1, 0),\n",
       "              (48, 1, 0),\n",
       "              (49, 1, 0),\n",
       "              (50, 1, 0),\n",
       "              (51, 1, 0),\n",
       "              (52, 1, 0),\n",
       "              (53, 1, 0),\n",
       "              (54, 1, 0),\n",
       "              (55, 1, 0),\n",
       "              (56, 1, 0),\n",
       "              (57, 1, 0),\n",
       "              (58, 1, 0),\n",
       "              (59, 1, 0),\n",
       "              (60, 1, 0),\n",
       "              (61, 1, 0),\n",
       "              (62, 1, 0),\n",
       "              (63, 1, 0),\n",
       "              (64, 1, 0),\n",
       "              (65, 1, 0),\n",
       "              (66, 1, 0),\n",
       "              (67, 1, 0),\n",
       "              (68, 1, 0),\n",
       "              (69, 1, 0),\n",
       "              (70, 1, 0),\n",
       "              (71, 1, 0),\n",
       "              (72, 1, 0),\n",
       "              (73, 1, 0),\n",
       "              (74, 1, 0),\n",
       "              (75, 1, 0),\n",
       "              (76, 1, 0),\n",
       "              (77, 1, 0),\n",
       "              (78, 1, 0),\n",
       "              (79, 1, 0),\n",
       "              (80, 1, 0),\n",
       "              (81, 1, 0),\n",
       "              (82, 1, 0),\n",
       "              (83, 1, 0),\n",
       "              (84, 1, 0),\n",
       "              (85, 1, 0),\n",
       "              (86, 1, 0),\n",
       "              (87, 1, 0),\n",
       "              (88, 1, 0),\n",
       "              (89, 1, 0),\n",
       "              (90, 1, 0),\n",
       "              (91, 1, 0),\n",
       "              (92, 1, 0),\n",
       "              (93, 1, 0),\n",
       "              (94, 1, 0),\n",
       "              (95, 1, 0),\n",
       "              (96, 1, 0),\n",
       "              (97, 1, 0),\n",
       "              (98, 1, 0),\n",
       "              (99, 1, 0),\n",
       "              (100, 1, 0),\n",
       "              (101, 1, 0),\n",
       "              (102, 1, 0),\n",
       "              (103, 1, 0),\n",
       "              (104, 1, 0),\n",
       "              (105, 1, 0),\n",
       "              (106, 1, 0),\n",
       "              (107, 1, 0),\n",
       "              (108, 1, 0),\n",
       "              (109, 1, 0),\n",
       "              (110, 1, 0),\n",
       "              (111, 1, 0),\n",
       "              (112, 1, 0),\n",
       "              (113, 1, 0),\n",
       "              (114, 1, 0),\n",
       "              (115, 1, 0),\n",
       "              (116, 1, 0),\n",
       "              (117, 1, 0),\n",
       "              (118, 1, 0),\n",
       "              (119, 1, 0),\n",
       "              (120, 1, 0),\n",
       "              (121, 1, 0),\n",
       "              (122, 1, 0),\n",
       "              (123, 1, 0),\n",
       "              (124, 1, 0),\n",
       "              (125, 1, 0),\n",
       "              (126, 1, 0),\n",
       "              (127, 1, 0),\n",
       "              (128, 1, 0),\n",
       "              (129, 1, 0),\n",
       "              (130, 1, 0),\n",
       "              (131, 1, 0),\n",
       "              (132, 1, 0),\n",
       "              (133, 1, 0),\n",
       "              (134, 1, 0),\n",
       "              (135, 1, 0),\n",
       "              (136, 1, 0),\n",
       "              (137, 1, 0),\n",
       "              (138, 1, 0),\n",
       "              (139, 1, 0),\n",
       "              (140, 1, 0),\n",
       "              (141, 1, 0),\n",
       "              (142, 1, 0),\n",
       "              (143, 1, 0),\n",
       "              (144, 1, 0),\n",
       "              (145, 1, 0),\n",
       "              (146, 1, 0),\n",
       "              (147, 1, 0),\n",
       "              (148, 1, 0),\n",
       "              (149, 1, 0),\n",
       "              (150, 1, 0),\n",
       "              (151, 1, 0),\n",
       "              (152, 1, 0),\n",
       "              (153, 1, 0),\n",
       "              (154, 1, 0),\n",
       "              (155, 1, 0),\n",
       "              (156, 1, 0),\n",
       "              (157, 1, 0),\n",
       "              (158, 1, 0),\n",
       "              (159, 1, 0),\n",
       "              (160, 1, 0),\n",
       "              (161, 1, 0),\n",
       "              (162, 1, 0),\n",
       "              (163, 1, 0),\n",
       "              (164, 1, 0),\n",
       "              (165, 1, 0),\n",
       "              (166, 1, 0),\n",
       "              (167, 1, 0),\n",
       "              (168, 1, 0),\n",
       "              (169, 1, 0),\n",
       "              (170, 1, 0),\n",
       "              (171, 1, 0),\n",
       "              (172, 1, 0),\n",
       "              (173, 1, 0),\n",
       "              (174, 1, 0),\n",
       "              (175, 1, 0),\n",
       "              (176, 1, 0),\n",
       "              (177, 1, 0),\n",
       "              (178, 1, 0),\n",
       "              (179, 1, 0),\n",
       "              (180, 1, 0),\n",
       "              (181, 1, 0),\n",
       "              (182, 1, 0),\n",
       "              (183, 1, 0),\n",
       "              (184, 1, 0),\n",
       "              (185, 1, 0),\n",
       "              (186, 1, 0),\n",
       "              (187, 1, 0),\n",
       "              (188, 1, 0),\n",
       "              (189, 1, 0),\n",
       "              (190, 1, 0),\n",
       "              (191, 1, 0),\n",
       "              (192, 1, 0),\n",
       "              (193, 1, 0),\n",
       "              (194, 1, 0),\n",
       "              (195, 1, 0),\n",
       "              (196, 1, 0),\n",
       "              (197, 1, 0),\n",
       "              (198, 1, 0),\n",
       "              (199, 1, 0)],\n",
       "             2: [(0, 0, 0),\n",
       "              (1, 0, 0),\n",
       "              (2, 0, 0),\n",
       "              (3, 0, 0),\n",
       "              (4, 0, 0),\n",
       "              (5, 0, 0),\n",
       "              (6, 1, 0),\n",
       "              (7, 1, 0),\n",
       "              (8, 1, 0),\n",
       "              (9, 1, 0),\n",
       "              (10, 1, 0),\n",
       "              (11, 1, 0),\n",
       "              (12, 1, 0),\n",
       "              (13, 1, 0),\n",
       "              (14, 1, 0),\n",
       "              (15, 1, 0),\n",
       "              (16, 1, 0),\n",
       "              (17, 1, 0),\n",
       "              (18, 1, 0),\n",
       "              (19, 1, 0),\n",
       "              (20, 1, 0),\n",
       "              (21, 1, 0),\n",
       "              (22, 1, 0),\n",
       "              (23, 1, 0),\n",
       "              (24, 1, 0),\n",
       "              (25, 1, 0),\n",
       "              (26, 1, 0),\n",
       "              (27, 1, 0),\n",
       "              (28, 1, 0),\n",
       "              (29, 1, 0),\n",
       "              (30, 1, 0),\n",
       "              (31, 1, 0),\n",
       "              (32, 1, 0),\n",
       "              (33, 1, 0),\n",
       "              (34, 1, 0),\n",
       "              (35, 1, 0),\n",
       "              (36, 1, 0),\n",
       "              (37, 1, 0),\n",
       "              (38, 1, 0),\n",
       "              (39, 1, 0),\n",
       "              (40, 1, 0),\n",
       "              (41, 1, 0),\n",
       "              (42, 1, 0),\n",
       "              (43, 1, 0),\n",
       "              (44, 1, 0),\n",
       "              (45, 1, 0),\n",
       "              (46, 1, 0),\n",
       "              (47, 1, 0),\n",
       "              (48, 1, 0),\n",
       "              (49, 1, 0),\n",
       "              (50, 1, 0),\n",
       "              (51, 1, 0),\n",
       "              (52, 1, 0),\n",
       "              (53, 1, 0),\n",
       "              (54, 1, 0),\n",
       "              (55, 1, 0),\n",
       "              (56, 1, 0),\n",
       "              (57, 1, 0),\n",
       "              (58, 1, 0),\n",
       "              (59, 1, 0),\n",
       "              (60, 1, 0),\n",
       "              (61, 1, 0),\n",
       "              (62, 1, 0),\n",
       "              (63, 1, 0),\n",
       "              (64, 1, 0),\n",
       "              (65, 1, 0),\n",
       "              (66, 1, 0),\n",
       "              (67, 1, 0),\n",
       "              (68, 1, 0),\n",
       "              (69, 1, 0),\n",
       "              (70, 1, 0),\n",
       "              (71, 1, 0),\n",
       "              (72, 1, 0),\n",
       "              (73, 1, 0),\n",
       "              (74, 1, 0),\n",
       "              (75, 1, 0),\n",
       "              (76, 1, 0),\n",
       "              (77, 1, 0),\n",
       "              (78, 1, 0),\n",
       "              (79, 1, 0),\n",
       "              (80, 1, 0),\n",
       "              (81, 1, 0),\n",
       "              (82, 1, 0),\n",
       "              (83, 1, 0),\n",
       "              (84, 1, 0),\n",
       "              (85, 1, 0),\n",
       "              (86, 1, 0),\n",
       "              (87, 1, 0),\n",
       "              (88, 1, 0),\n",
       "              (89, 1, 0),\n",
       "              (90, 1, 0),\n",
       "              (91, 1, 0),\n",
       "              (92, 1, 0),\n",
       "              (93, 1, 0),\n",
       "              (94, 1, 0),\n",
       "              (95, 1, 0),\n",
       "              (96, 1, 0),\n",
       "              (97, 1, 0),\n",
       "              (98, 1, 0),\n",
       "              (99, 1, 0),\n",
       "              (100, 1, 0),\n",
       "              (101, 1, 0),\n",
       "              (102, 1, 0),\n",
       "              (103, 1, 0),\n",
       "              (104, 1, 0),\n",
       "              (105, 1, 0),\n",
       "              (106, 1, 0),\n",
       "              (107, 1, 0),\n",
       "              (108, 1, 0),\n",
       "              (109, 1, 0),\n",
       "              (110, 1, 0),\n",
       "              (111, 1, 0),\n",
       "              (112, 1, 0),\n",
       "              (113, 1, 0),\n",
       "              (114, 1, 0),\n",
       "              (115, 1, 0),\n",
       "              (116, 1, 0),\n",
       "              (117, 1, 0),\n",
       "              (118, 1, 0),\n",
       "              (119, 1, 0),\n",
       "              (120, 1, 0),\n",
       "              (121, 1, 0),\n",
       "              (122, 1, 0),\n",
       "              (123, 1, 0),\n",
       "              (124, 1, 0),\n",
       "              (125, 1, 0),\n",
       "              (126, 1, 0),\n",
       "              (127, 1, 0),\n",
       "              (128, 1, 0),\n",
       "              (129, 1, 0),\n",
       "              (130, 1, 0),\n",
       "              (131, 1, 0),\n",
       "              (132, 1, 0),\n",
       "              (133, 1, 0),\n",
       "              (134, 1, 0),\n",
       "              (135, 1, 0),\n",
       "              (136, 1, 0),\n",
       "              (137, 1, 0),\n",
       "              (138, 1, 0),\n",
       "              (139, 1, 0),\n",
       "              (140, 1, 0),\n",
       "              (141, 1, 0),\n",
       "              (142, 1, 0),\n",
       "              (143, 1, 0),\n",
       "              (144, 1, 0),\n",
       "              (145, 1, 0),\n",
       "              (146, 1, 0),\n",
       "              (147, 1, 0),\n",
       "              (148, 1, 0),\n",
       "              (149, 1, 0),\n",
       "              (150, 1, 0),\n",
       "              (151, 1, 0),\n",
       "              (152, 1, 0),\n",
       "              (153, 1, 0),\n",
       "              (154, 1, 0),\n",
       "              (155, 1, 0),\n",
       "              (156, 1, 0),\n",
       "              (157, 1, 0),\n",
       "              (158, 1, 0),\n",
       "              (159, 1, 0),\n",
       "              (160, 1, 0),\n",
       "              (161, 1, 0),\n",
       "              (162, 1, 0),\n",
       "              (163, 1, 0),\n",
       "              (164, 1, 0),\n",
       "              (165, 1, 0),\n",
       "              (166, 1, 0),\n",
       "              (167, 1, 0),\n",
       "              (168, 1, 0),\n",
       "              (169, 1, 0),\n",
       "              (170, 1, 0),\n",
       "              (171, 1, 0),\n",
       "              (172, 1, 0),\n",
       "              (173, 1, 0),\n",
       "              (174, 1, 0),\n",
       "              (175, 1, 0),\n",
       "              (176, 1, 0),\n",
       "              (177, 1, 0),\n",
       "              (178, 1, 0),\n",
       "              (179, 1, 0),\n",
       "              (180, 1, 0),\n",
       "              (181, 1, 0),\n",
       "              (182, 1, 0),\n",
       "              (183, 1, 0),\n",
       "              (184, 1, 0),\n",
       "              (185, 1, 0),\n",
       "              (186, 1, 0),\n",
       "              (187, 1, 0),\n",
       "              (188, 1, 0),\n",
       "              (189, 1, 0),\n",
       "              (190, 1, 0),\n",
       "              (191, 1, 0),\n",
       "              (192, 1, 0),\n",
       "              (193, 1, 0),\n",
       "              (194, 1, 0),\n",
       "              (195, 1, 0),\n",
       "              (196, 1, 0),\n",
       "              (197, 1, 0),\n",
       "              (198, 1, 0),\n",
       "              (199, 1, 0)]})"
      ]
     },
     "execution_count": 14,
     "metadata": {},
     "output_type": "execute_result"
    }
   ],
   "source": [
    "data2"
   ]
  },
  {
   "cell_type": "code",
   "execution_count": 8,
   "metadata": {},
   "outputs": [
    {
     "name": "stdout",
     "output_type": "stream",
     "text": [
      "{'1': 0.0, '2': 0.0}\n",
      "(2000, 3)\n",
      "(2000, 3)\n",
      "{'1': (nan, nan, 0.0), '2': (nan, nan, 0.0)}\n",
      "0\n",
      "time:  0.03916764259338379\n",
      "{'1': 0.0, '2': 0.0}\n",
      "(2000, 3)\n",
      "(2000, 3)\n",
      "{'1': (nan, nan, 0.0), '2': (nan, nan, 0.0)}\n",
      "0\n",
      "time:  0.06293702125549316\n",
      "{'1': 0.0, '2': 0.0}\n",
      "(2000, 3)\n",
      "(2000, 3)\n",
      "{'1': (nan, nan, 0.0), '2': (nan, nan, 0.0)}\n",
      "0\n",
      "time:  0.024883270263671875\n",
      "{'1': 0.0, '2': 0.0}\n",
      "(2000, 3)\n",
      "(2000, 3)\n",
      "{'1': (nan, nan, 0.0), '2': (nan, nan, 0.0)}\n",
      "0\n",
      "time:  0.016853809356689453\n",
      "{'1': 0.0, '2': 0.0}\n",
      "(2000, 3)\n",
      "(2000, 3)\n",
      "{'1': (nan, nan, 0.0), '2': (nan, nan, 0.0)}\n",
      "0\n",
      "time:  0.0334630012512207\n",
      "{'1': 0.0, '2': 0.0}\n",
      "(2000, 3)\n",
      "(2000, 3)\n",
      "{'1': (nan, nan, 0.0), '2': (nan, nan, 0.0)}\n",
      "0\n",
      "time:  0.033644676208496094\n",
      "{'1': 0.0, '2': 0.0}\n",
      "(2000, 3)\n",
      "(2000, 3)\n",
      "{'1': (nan, nan, 0.0), '2': (nan, nan, 0.0)}\n",
      "0\n",
      "time:  0.03572416305541992\n",
      "{'1': 0.0, '2': 0.0}\n",
      "(2000, 3)\n",
      "(2000, 3)\n",
      "{'1': (nan, nan, 0.0), '2': (nan, nan, 0.0)}\n",
      "0\n",
      "time:  0.028428077697753906\n",
      "{'1': 0.0, '2': 0.0}\n",
      "(2000, 3)\n",
      "(2000, 3)\n",
      "{'1': (nan, nan, 0.0), '2': (nan, nan, 0.0)}\n",
      "0\n",
      "time:  0.0204160213470459\n",
      "{'1': 0.0, '2': 0.0}\n",
      "(2000, 3)\n",
      "(2000, 3)\n",
      "{'1': (nan, nan, 0.0), '2': (nan, nan, 0.0)}\n",
      "0\n",
      "time:  0.0341343879699707\n"
     ]
    }
   ],
   "source": [
    "for _ in range(10):\n",
    "    timek = time.time()\n",
    "    data = af.obtain_mongo(\"2024-04-15T12:45:41.36Z\", collection)\n",
    "    data2 = af.obtaining_mqtt(newSamples, data)\n",
    "    af.save_mongo(data2, \"2024-04-15T12:45:41.36Z\", collection)\n",
    "    data = data2.copy()\n",
    "    data = af.filtering(data)\n",
    "    print(af.rms(data))\n",
    "    print(af.meanMedianFreq(data))\n",
    "    print(len(data2[1]))\n",
    "    print(\"time: \", time.time()-timek)\n",
    "    "
   ]
  },
  {
   "cell_type": "code",
   "execution_count": null,
   "metadata": {},
   "outputs": [],
   "source": []
  },
  {
   "cell_type": "code",
   "execution_count": null,
   "metadata": {},
   "outputs": [],
   "source": []
  },
  {
   "cell_type": "code",
   "execution_count": 18,
   "metadata": {},
   "outputs": [
    {
     "name": "stdout",
     "output_type": "stream",
     "text": [
      "{'_id': ObjectId('664600888f8a164660a63743'), 'experimentStart': '2024-05-16T14:48:10.163Z', 'experimentLabel': 'a', 'xsensExperimentData': {'suitConfiguration': 'UpperBodyNoHands', 'calibrationType': 'NPose', 'scenarioLevel': 'noLevel', 'sampleRateAquisition': '100Hz', 'bodyDimensions': {'bodyHeight': 1.819, 'footSize': 0.327, 'shoulderHeight': 1.517, 'shoulderWidth': 0.348, 'elbowSpan': 0.95, 'wristSpan': 1.43, 'armSpan': 1.82, 'hipHeight': 1.08, 'hipWidth': 0.401, 'kneeHeight': 0.486125, 'ankleHeight': 0.08, 'shoeSoleHeight': 0.0}, 'availableKinematicSignals': {'position': 'true', 'velocity': 'false', 'acceleration': 'false', 'orientation': 'true', 'angularVelocity': 'false', 'angularAcceleration': 'false'}}, 'btsExperimentData': {'emgSensorsData': [{'sensorLabel': '5', 'macAdress': '02B75E0005101A9D', 'batteryLevel': 3, 'channel': 4, 'muscle': None}]}}\n",
      "664600888f8a164660a63743\n"
     ]
    }
   ],
   "source": [
    "mGClient = MongoClient(f'mongodb://10.250.4.35:27017')\n",
    "db = mGClient['experiments']\n",
    "collection = db[\"metadata\"]\n",
    "result= None\n",
    "while result is None:\n",
    "    result = collection.find_one({\"experimentStart\": \"2024-05-16T14:48:10.163Z\"})\n",
    "    print(result)\n",
    "    time.sleep(1)\n",
    "\n",
    "print(result[\"_id\"])"
   ]
  },
  {
   "cell_type": "code",
   "execution_count": 19,
   "metadata": {},
   "outputs": [],
   "source": [
    "# re = result[\"_id\"].tostringà\n",
    "re = result[\"_id\"].binary.hex()"
   ]
  },
  {
   "cell_type": "code",
   "execution_count": 20,
   "metadata": {},
   "outputs": [
    {
     "data": {
      "text/plain": [
       "'664600888f8a164660a63743'"
      ]
     },
     "execution_count": 20,
     "metadata": {},
     "output_type": "execute_result"
    }
   ],
   "source": [
    "re"
   ]
  },
  {
   "cell_type": "code",
   "execution_count": null,
   "metadata": {},
   "outputs": [],
   "source": []
  }
 ],
 "metadata": {
  "kernelspec": {
   "display_name": ".venv",
   "language": "python",
   "name": "python3"
  },
  "language_info": {
   "codemirror_mode": {
    "name": "ipython",
    "version": 3
   },
   "file_extension": ".py",
   "mimetype": "text/x-python",
   "name": "python",
   "nbconvert_exporter": "python",
   "pygments_lexer": "ipython3",
   "version": "3.11.8"
  }
 },
 "nbformat": 4,
 "nbformat_minor": 2
}
